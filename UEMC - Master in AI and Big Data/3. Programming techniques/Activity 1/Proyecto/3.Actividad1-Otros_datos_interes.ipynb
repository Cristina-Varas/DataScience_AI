{
 "cells": [
  {
   "cell_type": "code",
   "execution_count": 11,
   "id": "da63804b-226b-4dc3-ae1c-ed405658bc59",
   "metadata": {},
   "outputs": [],
   "source": [
    "import pandas as pd\n",
    "from datetime import datetime\n",
    "import collections"
   ]
  },
  {
   "cell_type": "code",
   "execution_count": 2,
   "id": "04a09406-85ab-4719-995d-8f5f8f7688a6",
   "metadata": {},
   "outputs": [],
   "source": [
    "clean_dataframe = pd.read_csv(\"df_navegacion_urlseparated_noduplicates_conversiones_concatenated_withtime.csv\")"
   ]
  },
  {
   "cell_type": "markdown",
   "id": "01d61139-2598-4797-b532-a350a73dbf2b",
   "metadata": {},
   "source": [
    "## 1. Número de visitas recibidas al día"
   ]
  },
  {
   "cell_type": "markdown",
   "id": "d6803b9a-12c9-4e59-8fc2-add97a76b593",
   "metadata": {},
   "source": [
    "Este punto es tan sencillo como recoger la columna 'day' correspondiente al momento de la navegación de la tabla resultante de la limpieza y mirar sus frecuencia"
   ]
  },
  {
   "cell_type": "code",
   "execution_count": 3,
   "id": "bab36b3f-3499-4a27-b7d1-477583107eaa",
   "metadata": {},
   "outputs": [
    {
     "name": "stdout",
     "output_type": "stream",
     "text": [
      "6    5790\n",
      "7       8\n",
      "Name: day, dtype: int64\n"
     ]
    }
   ],
   "source": [
    "frecuencia_visitas = clean_dataframe['day'].value_counts()\n",
    "print(frecuencia_visitas)"
   ]
  },
  {
   "cell_type": "markdown",
   "id": "da48bb35-cefd-4509-a4fe-2e6310632071",
   "metadata": {},
   "source": [
    "## 2. Número de visitas que converten y no convierten"
   ]
  },
  {
   "cell_type": "code",
   "execution_count": 4,
   "id": "e3b37b65-4a4a-404a-a7dc-6a6c854d1fff",
   "metadata": {},
   "outputs": [
    {
     "name": "stdout",
     "output_type": "stream",
     "text": [
      "TOTAL VISITAS: 5798\n",
      "CONVIERTEN 15 VISITAS(0.25870989996550536%)\n",
      "NO CONVIERTEN 5783 VISITAS(99.74129010003449%)\n"
     ]
    }
   ],
   "source": [
    "total_visitas = len(clean_dataframe)\n",
    "visitas_convierten = len(clean_dataframe[clean_dataframe['conversiones'] == 1])\n",
    "visitas_no_convierten = len(clean_dataframe[clean_dataframe['conversiones'] == 0])\n",
    "porcentaje_convierten = visitas_convierten/total_visitas * 100\n",
    "porcentaje_no_convierten = visitas_no_convierten/total_visitas * 100\n",
    "print(\"TOTAL VISITAS: \" + str(total_visitas))\n",
    "print(\"CONVIERTEN \" + str(visitas_convierten) + ' VISITAS' + '(' +  str(porcentaje_convierten) + '%)')\n",
    "print(\"NO CONVIERTEN \" + str(visitas_no_convierten) + ' VISITAS'+ '(' +  str(porcentaje_no_convierten) + '%)')"
   ]
  },
  {
   "cell_type": "markdown",
   "id": "29d170e3-7274-4379-b95f-fab12f327526",
   "metadata": {},
   "source": [
    "## 3. Número de visitas de tipo de conversión CALL y FORM"
   ]
  },
  {
   "cell_type": "code",
   "execution_count": null,
   "id": "c00f2f93-d476-4c99-83d1-88b1a693d1c0",
   "metadata": {},
   "outputs": [],
   "source": [
    "form_dataframe = pd.read_csv(\"form_contact.csv\")\n",
    "call_dataframe = clean_dataframe[clean_dataframe['lead_type'] == ' CALL']\n",
    "call_dataframe"
   ]
  },
  {
   "cell_type": "code",
   "execution_count": 6,
   "id": "20dc04af-b26b-4349-b8f3-cce0cee170fb",
   "metadata": {},
   "outputs": [
    {
     "name": "stdout",
     "output_type": "stream",
     "text": [
      "NÚMERO DE CONVERSIONES DE TIPO CALL: 6\n",
      "NÚMERO DE CONVERSIONES DE TIPO FORM: 9\n"
     ]
    }
   ],
   "source": [
    "call_dataframe = clean_dataframe[clean_dataframe['lead_type'] == ' CALL']\n",
    "form_dataframe = clean_dataframe[clean_dataframe['lead_type'] == ' FORM']\n",
    "\n",
    "print(\"NÚMERO DE CONVERSIONES DE TIPO CALL: \" + str(len(call_dataframe)))\n",
    "print(\"NÚMERO DE CONVERSIONES DE TIPO FORM: \" + str(len(form_dataframe)))"
   ]
  },
  {
   "cell_type": "markdown",
   "id": "a9a03867-add9-4db0-bc46-803f5eddbf24",
   "metadata": {},
   "source": [
    "## 4. Porcentaje de usuarios recurrentes sobre el total de usuarios"
   ]
  },
  {
   "cell_type": "code",
   "execution_count": 7,
   "id": "4653562e-f8b5-4c66-8c1c-e40eea7c9eb2",
   "metadata": {},
   "outputs": [
    {
     "name": "stdout",
     "output_type": "stream",
     "text": [
      "EL PORCENTAJE DE USUARIOS RECURRENTES SOBRE EL TOTAL DE USUARIOS ES: 31.252155915833047%\n"
     ]
    }
   ],
   "source": [
    "usuarios_recurrentes = clean_dataframe[clean_dataframe['rec'] == 'rec=true']\n",
    "usuarios_recurrentes = len(usuarios_recurrentes)\n",
    "\n",
    "total_usuarios = len(clean_dataframe)\n",
    "porcentaje_usuarios_recurrentes = usuarios_recurrentes/total_usuarios * 100\n",
    "                                      \n",
    "print(\"EL PORCENTAJE DE USUARIOS RECURRENTES SOBRE EL TOTAL DE USUARIOS ES: \" + str(porcentaje_usuarios_recurrentes) + '%')\n"
   ]
  },
  {
   "cell_type": "markdown",
   "id": "72cca1a9-dee5-4dc9-8a70-a321321e9508",
   "metadata": {},
   "source": [
    "## 5. Coche más visitado"
   ]
  },
  {
   "cell_type": "code",
   "execution_count": 13,
   "id": "a806bbb2-6ab0-4db1-b75b-9741353fd811",
   "metadata": {},
   "outputs": [],
   "source": [
    "def get_products(dataframe):\n",
    "    URLbase_landing = dataframe[\"URL_base&landing\"]\n",
    "    pages_list = get_pages_list(URLbase_landing)\n",
    "    counter = collections.Counter(pages_list)\n",
    "    \n",
    "    return counter\n",
    "products_list = get_products(clean_dataframe)\n"
   ]
  },
  {
   "cell_type": "code",
   "execution_count": 9,
   "id": "bc754ca3-fda3-417a-aee1-69417f0eac1b",
   "metadata": {},
   "outputs": [],
   "source": [
    "def get_pages_list(URLbase_landing):\n",
    "    pages_list = []\n",
    "    for element in URLbase_landing:\n",
    "        if isinstance(element, str):\n",
    "            splitted_element = element.split(\"/\")\n",
    "            if splitted_element[len(splitted_element) - 2] == 'es':\n",
    "                pages_list.append(\"Home\")\n",
    "            else:\n",
    "                pages_list.append(splitted_element[len(splitted_element) - 2])\n",
    "                \n",
    "    return pages_list"
   ]
  },
  {
   "cell_type": "code",
   "execution_count": 14,
   "id": "2082a05b-b535-48e4-ba00-c9bd574b3f11",
   "metadata": {},
   "outputs": [
    {
     "name": "stdout",
     "output_type": "stream",
     "text": [
      "Counter({'Home': 2000, 'tria': 1196, 'clin200': 385, 'home': 312, 'clin400': 285, 'cea': 268, 'dep30': 158, 'tria-hibrido': 154, 'clin50': 134, 'life': 127, 'cea-electrico': 122, 'ixs-hibrido': 116, 'ixs-electrico': 111, 'fm': 83, 'cea-hibrido': 60, 'dep30F': 43, 'descarga-catalogo': 43, 'descargar-catalogo': 38, 'clin200n': 18, 'k43': 15, 'fm-hev': 15, 'clin200-electrico': 10, 'comercial': 3, 'renting': 2, 'idUser=db17710a-8fc4-4aeb-87a0-dcbe059339ae': 1, 'dUser=579dc619-05f1-403e-ae57-5579c429075f': 1, 'idUser=5b9ea72a-8fc4-4aeb-87a0-dcbe059339ae': 1, 'idUser=dd1ad92a-8fc4-4aeb-87a0-dcbe059339ae': 1, 'idUser=dc887b2a-8fc4-4aeb-87a0-dcbe059339ae': 1, 'idUser=560afd2a-8fc4-4aeb-87a0-dcbe059339ae': 1})\n"
     ]
    }
   ],
   "source": [
    "print(products_list)"
   ]
  },
  {
   "cell_type": "code",
   "execution_count": null,
   "id": "fbd8df77-6de8-4bc5-a9c2-3b9ac88c78df",
   "metadata": {},
   "outputs": [],
   "source": []
  }
 ],
 "metadata": {
  "kernelspec": {
   "display_name": "Python 3",
   "language": "python",
   "name": "python3"
  },
  "language_info": {
   "codemirror_mode": {
    "name": "ipython",
    "version": 3
   },
   "file_extension": ".py",
   "mimetype": "text/x-python",
   "name": "python",
   "nbconvert_exporter": "python",
   "pygments_lexer": "ipython3",
   "version": "3.8.8"
  }
 },
 "nbformat": 4,
 "nbformat_minor": 5
}
