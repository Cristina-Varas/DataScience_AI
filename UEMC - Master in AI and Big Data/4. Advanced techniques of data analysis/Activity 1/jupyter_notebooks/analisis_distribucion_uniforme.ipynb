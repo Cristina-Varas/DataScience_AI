{
 "cells": [
  {
   "cell_type": "code",
   "execution_count": 3,
   "id": "f2ad5aaa-f92c-4b6d-bd11-d1674be47e0f",
   "metadata": {},
   "outputs": [],
   "source": [
    "import pandas as pd\n",
    "import matplotlib.pyplot as plt\n",
    "import numpy as np\n",
    "\n",
    "from scipy import stats\n",
    "import inspect\n",
    "from statsmodels.distributions.empirical_distribution import ECDF"
   ]
  },
  {
   "cell_type": "code",
   "execution_count": 7,
   "id": "5366c687-cc67-41ec-9d05-1c8759ef8f1d",
   "metadata": {},
   "outputs": [],
   "source": [
    "archivo = \"HortonGeneralHospital_2.csv\"\n",
    "df = pd.read_csv(archivo)\n",
    "df['mes_año_datetime'] = pd.to_datetime(df['mes_año'])"
   ]
  },
  {
   "cell_type": "code",
   "execution_count": 8,
   "id": "71a756b7-0ca5-4969-946e-7a6347c6e4b1",
   "metadata": {},
   "outputs": [],
   "source": [
    "datos_ratio_conBen = df.ratio\n",
    "datos_ratio_hasta_noviembre2003 = df.ratio[:49]\n",
    "datos_ratio_desde_marzo2004 = df.ratio[52:]\n",
    "datos_ratio_sinBen = pd.concat([datos_ratio_hasta_noviembre2003, datos_ratio_desde_marzo2004])\n",
    "\n",
    "datos_ratio_sinBen.to_csv(\"datos_procesados_sinBen.csv\", sep = ',', index= False)"
   ]
  },
  {
   "cell_type": "code",
   "execution_count": 11,
   "id": "c9265f7e-c543-400a-87cf-bd1ff4dedbfb",
   "metadata": {},
   "outputs": [
    {
     "data": {
      "image/png": "[encoded data removed]",
      "text/plain": [
       "<Figure size 432x288 with 1 Axes>"
      ]
     },
     "metadata": {
      "needs_background": "light"
     },
     "output_type": "display_data"
    }
   ],
   "source": [
    "# Graficando histograma\n",
    "mu, sigma = 0, 0.2 # media y desvio estandar\n",
    "#datos = np.random.normal(mu, sigma, 1000) #creando muestra de datos\n",
    "\n",
    "# histograma de distribución normal.\n",
    "cuenta, cajas, ignorar = plt.hist(datos_ratio_conBen, 20)\n",
    "plt.ylabel('frequencia')\n",
    "plt.xlabel('valores')\n",
    "plt.title('Histograma')\n",
    "plt.show()"
   ]
  },
  {
   "cell_type": "code",
   "execution_count": 12,
   "id": "5848c0f3-fdae-4240-87d0-8eb284762f08",
   "metadata": {},
   "outputs": [
    {
     "data": {
      "image/png": "[encoded data removed]",
      "text/plain": [
       "<Figure size 432x288 with 1 Axes>"
      ]
     },
     "metadata": {
      "needs_background": "light"
     },
     "output_type": "display_data"
    }
   ],
   "source": [
    "# Graficando histograma\n",
    "mu, sigma = 0, 0.2 # media y desvio estandar\n",
    "#datos = np.random.normal(mu, sigma, 1000) #creando muestra de datos\n",
    "\n",
    "# histograma de distribución normal.\n",
    "cuenta, cajas, ignorar = plt.hist(datos_n_transferidos_desde_marzo2004, 20)\n",
    "plt.ylabel('frequencia')\n",
    "plt.xlabel('valores')\n",
    "plt.title('Histograma')\n",
    "plt.show()"
   ]
  },
  {
   "cell_type": "code",
   "execution_count": 14,
   "id": "fd018a44-2043-4a28-b3c9-cc7a18dff5a5",
   "metadata": {},
   "outputs": [
    {
     "name": "stdout",
     "output_type": "stream",
     "text": [
      "[0.         0.00216998 0.00433996 0.00650995 0.00867993 0.01084991]\n",
      "[83 38 12  5  1]\n"
     ]
    },
    {
     "data": {
      "text/plain": [
       "Power_divergenceResult(statistic=166.863309352518, pvalue=4.927175806689634e-35)"
      ]
     },
     "execution_count": 14,
     "metadata": {},
     "output_type": "execute_result"
    }
   ],
   "source": [
    "from  scipy.stats import chisquare\n",
    "\n",
    "hist_total, bin_edges_total = np.histogram(datos_ratio_conBen, 5)\n",
    "print(bin_edges_total)\n",
    "print(hist_total)\n",
    "chisquare(hist_total)"
   ]
  },
  {
   "cell_type": "code",
   "execution_count": 15,
   "id": "6452cfd6-a35c-45da-b98a-51072887e758",
   "metadata": {},
   "outputs": [
    {
     "name": "stdout",
     "output_type": "stream",
     "text": [
      "---------------------\n",
      "Resultados del ajuste\n",
      "---------------------\n",
      "Distribución:   uniform\n",
      "Dominio:        [0.0, 1.0]\n",
      "Parámetros:     {'loc': 0.0, 'scale': 0.01084991}\n",
      "Log likelihood: 628.7801906605716\n",
      "AIC:            -1253.5603813211433\n",
      "BIC:            -1247.691433454882\n"
     ]
    },
    {
     "data": {
      "image/png": "[encoded data removed]",
      "text/plain": [
       "<Figure size 504x288 with 1 Axes>"
      ]
     },
     "metadata": {
      "needs_background": "light"
     },
     "output_type": "display_data"
    }
   ],
   "source": [
    "datos = datos_ratio_conBen\n",
    "# Ajuste distribución uniforme\n",
    "#===============================================================================\n",
    "# 1) Se define el tipo de distribución\n",
    "distribucion = stats.uniform\n",
    "\n",
    "# 2) Con el método fit() se obtienen los parámetros\n",
    "parametros = distribucion.fit(data=datos)\n",
    "\n",
    "# 3) Se crea un diccionario que incluya el nombre de cada parámetro\n",
    "nombre_parametros = [p for p in inspect.signature(distribucion._pdf).parameters \\\n",
    "                     if not p=='x'] + [\"loc\",\"scale\"]\n",
    "parametros_dict = dict(zip(nombre_parametros, parametros))\n",
    "\n",
    "# 3) Se calcula el log likelihood\n",
    "log_likelihood = distribucion.logpdf(datos.to_numpy(), *parametros).sum()\n",
    "\n",
    "# 4) Se calcula el AIC y el BIC\n",
    "aic = -2 * log_likelihood + 2 * len(parametros)\n",
    "bic = -2 * log_likelihood + np.log(datos.shape[0]) * len(parametros)\n",
    "\n",
    "# 5) Gráfico\n",
    "x_hat = np.linspace(min(datos), max(datos), num=100)\n",
    "y_hat = distribucion.pdf(x_hat, *parametros)\n",
    "fig, ax = plt.subplots(figsize=(7,4))\n",
    "ax.plot(x_hat, y_hat, linewidth=2, label=distribucion.name)\n",
    "ax.hist(x=datos, density=True, bins=30, color=\"#3182bd\", alpha=0.5)\n",
    "ax.plot(datos, np.full_like(datos, -0.01), '|k', markeredgewidth=1)\n",
    "ax.set_title('Distribución ratio')\n",
    "ax.set_xlabel('precio')\n",
    "ax.set_ylabel('Densidad de probabilidad')\n",
    "ax.legend();\n",
    "\n",
    "#6) Información del ajuste\n",
    "print('---------------------')\n",
    "print('Resultados del ajuste')\n",
    "print('---------------------')\n",
    "print(f\"Distribución:   {distribucion.name}\")\n",
    "print(f\"Dominio:        {[distribucion.a, distribucion.b]}\")\n",
    "print(f\"Parámetros:     {parametros_dict}\")\n",
    "print(f\"Log likelihood: {log_likelihood}\")\n",
    "print(f\"AIC:            {aic}\")\n",
    "print(f\"BIC:            {bic}\")"
   ]
  },
  {
   "cell_type": "code",
   "execution_count": 19,
   "id": "b0a35f66-a290-4bff-abc4-323f85ec9e7d",
   "metadata": {},
   "outputs": [
    {
     "name": "stdout",
     "output_type": "stream",
     "text": [
      "---------------------\n",
      "Resultados del ajuste\n",
      "---------------------\n",
      "Distribución:   uniform\n",
      "Dominio:        [0.0, 1.0]\n",
      "Parámetros:     {'loc': 0.0, 'scale': 0.007518797}\n",
      "Log likelihood: 665.0874813021585\n",
      "AIC:            -1326.174962604317\n",
      "BIC:            -1320.3496528328449\n"
     ]
    },
    {
     "data": {
      "image/png": "[encoded data removed]",
      "text/plain": [
       "<Figure size 504x288 with 1 Axes>"
      ]
     },
     "metadata": {
      "needs_background": "light"
     },
     "output_type": "display_data"
    }
   ],
   "source": [
    "datos = datos_ratio_sinBen\n",
    "# Ajuste distribución uniforme\n",
    "#===============================================================================\n",
    "# 1) Se define el tipo de distribución\n",
    "distribucion = stats.uniform\n",
    "\n",
    "# 2) Con el método fit() se obtienen los parámetros\n",
    "parametros = distribucion.fit(data=datos)\n",
    "\n",
    "# 3) Se crea un diccionario que incluya el nombre de cada parámetro\n",
    "nombre_parametros = [p for p in inspect.signature(distribucion._pdf).parameters \\\n",
    "                     if not p=='x'] + [\"loc\",\"scale\"]\n",
    "parametros_dict = dict(zip(nombre_parametros, parametros))\n",
    "\n",
    "# 3) Se calcula el log likelihood\n",
    "log_likelihood = distribucion.logpdf(datos.to_numpy(), *parametros).sum()\n",
    "\n",
    "# 4) Se calcula el AIC y el BIC\n",
    "aic = -2 * log_likelihood + 2 * len(parametros)\n",
    "bic = -2 * log_likelihood + np.log(datos.shape[0]) * len(parametros)\n",
    "\n",
    "# 5) Gráfico\n",
    "x_hat = np.linspace(min(datos), max(datos), num=100)\n",
    "y_hat = distribucion.pdf(x_hat, *parametros)\n",
    "fig, ax = plt.subplots(figsize=(7,4))\n",
    "ax.plot(x_hat, y_hat, linewidth=2, label=distribucion.name)\n",
    "ax.hist(x=datos, density=True, bins=30, color=\"#3182bd\", alpha=0.5)\n",
    "ax.plot(datos, np.full_like(datos, -0.01), '|k', markeredgewidth=1)\n",
    "ax.set_title('Distribución ratio')\n",
    "ax.set_xlabel('precio')\n",
    "ax.set_ylabel('Densidad de probabilidad')\n",
    "ax.legend();\n",
    "\n",
    "#6) Información del ajuste\n",
    "print('---------------------')\n",
    "print('Resultados del ajuste')\n",
    "print('---------------------')\n",
    "print(f\"Distribución:   {distribucion.name}\")\n",
    "print(f\"Dominio:        {[distribucion.a, distribucion.b]}\")\n",
    "print(f\"Parámetros:     {parametros_dict}\")\n",
    "print(f\"Log likelihood: {log_likelihood}\")\n",
    "print(f\"AIC:            {aic}\")\n",
    "print(f\"BIC:            {bic}\")"
   ]
  },
  {
   "cell_type": "code",
   "execution_count": 17,
   "id": "4ca49f84-0f88-49e9-b893-f49094e7dea8",
   "metadata": {},
   "outputs": [
    {
     "name": "stdout",
     "output_type": "stream",
     "text": [
      "---------------------\n",
      "Resultados del ajuste\n",
      "---------------------\n",
      "Distribución:   uniform\n",
      "Dominio:        [0.0, 1.0]\n",
      "Parámetros:     {'loc': 0.0, 'scale': 0.007272727}\n",
      "Log likelihood: 418.50803614156325\n",
      "AIC:            -833.0160722831265\n",
      "BIC:            -828.1307697701459\n"
     ]
    },
    {
     "data": {
      "image/png": "[encoded data removed]",
      "text/plain": [
       "<Figure size 504x288 with 1 Axes>"
      ]
     },
     "metadata": {
      "needs_background": "light"
     },
     "output_type": "display_data"
    }
   ],
   "source": [
    "datos = datos_ratio_desde_marzo2014\n",
    "# Ajuste distribución uniforme\n",
    "#===============================================================================\n",
    "# 1) Se define el tipo de distribución\n",
    "distribucion = stats.uniform\n",
    "\n",
    "# 2) Con el método fit() se obtienen los parámetros\n",
    "parametros = distribucion.fit(data=datos)\n",
    "\n",
    "# 3) Se crea un diccionario que incluya el nombre de cada parámetro\n",
    "nombre_parametros = [p for p in inspect.signature(distribucion._pdf).parameters \\\n",
    "                     if not p=='x'] + [\"loc\",\"scale\"]\n",
    "parametros_dict = dict(zip(nombre_parametros, parametros))\n",
    "\n",
    "# 3) Se calcula el log likelihood\n",
    "log_likelihood = distribucion.logpdf(datos.to_numpy(), *parametros).sum()\n",
    "\n",
    "# 4) Se calcula el AIC y el BIC\n",
    "aic = -2 * log_likelihood + 2 * len(parametros)\n",
    "bic = -2 * log_likelihood + np.log(datos.shape[0]) * len(parametros)\n",
    "\n",
    "# 5) Gráfico\n",
    "x_hat = np.linspace(min(datos), max(datos), num=100)\n",
    "y_hat = distribucion.pdf(x_hat, *parametros)\n",
    "fig, ax = plt.subplots(figsize=(7,4))\n",
    "ax.plot(x_hat, y_hat, linewidth=2, label=distribucion.name)\n",
    "ax.hist(x=datos, density=True, bins=30, color=\"#3182bd\", alpha=0.5)\n",
    "ax.plot(datos, np.full_like(datos, -0.01), '|k', markeredgewidth=1)\n",
    "ax.set_title('Distribución ratio')\n",
    "ax.set_xlabel('precio')\n",
    "ax.set_ylabel('Densidad de probabilidad')\n",
    "ax.legend();\n",
    "\n",
    "#6) Información del ajuste\n",
    "print('---------------------')\n",
    "print('Resultados del ajuste')\n",
    "print('---------------------')\n",
    "print(f\"Distribución:   {distribucion.name}\")\n",
    "print(f\"Dominio:        {[distribucion.a, distribucion.b]}\")\n",
    "print(f\"Parámetros:     {parametros_dict}\")\n",
    "print(f\"Log likelihood: {log_likelihood}\")\n",
    "print(f\"AIC:            {aic}\")\n",
    "print(f\"BIC:            {bic}\")"
   ]
  }
 ],
 "metadata": {
  "kernelspec": {
   "display_name": "Python 3 (ipykernel)",
   "language": "python",
   "name": "python3"
  },
  "language_info": {
   "codemirror_mode": {
    "name": "ipython",
    "version": 3
   },
   "file_extension": ".py",
   "mimetype": "text/x-python",
   "name": "python",
   "nbconvert_exporter": "python",
   "pygments_lexer": "ipython3",
   "version": "3.9.7"
  }
 },
 "nbformat": 4,
 "nbformat_minor": 5
}
