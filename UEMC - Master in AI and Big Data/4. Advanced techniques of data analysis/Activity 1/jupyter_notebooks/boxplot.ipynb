{
 "cells": [
  {
   "cell_type": "code",
   "execution_count": 12,
   "id": "213d9468-1cad-490e-a794-bdfd3241337b",
   "metadata": {},
   "outputs": [],
   "source": [
    "import pandas as pd\n",
    "import matplotlib.pyplot as plt"
   ]
  },
  {
   "cell_type": "code",
   "execution_count": 27,
   "id": "d54cf2d4-a8ff-45df-9108-4b303900f326",
   "metadata": {},
   "outputs": [
    {
     "data": {
      "text/html": [
       "<div>\n",
       "<style scoped>\n",
       "    .dataframe tbody tr th:only-of-type {\n",
       "        vertical-align: middle;\n",
       "    }\n",
       "\n",
       "    .dataframe tbody tr th {\n",
       "        vertical-align: top;\n",
       "    }\n",
       "\n",
       "    .dataframe thead th {\n",
       "        text-align: right;\n",
       "    }\n",
       "</style>\n",
       "<table border=\"1\" class=\"dataframe\">\n",
       "  <thead>\n",
       "    <tr style=\"text-align: right;\">\n",
       "      <th></th>\n",
       "      <th>Column1</th>\n",
       "      <th>Cardio</th>\n",
       "      <th>Resp</th>\n",
       "      <th>Hypo</th>\n",
       "      <th>Adm</th>\n",
       "      <th>year</th>\n",
       "      <th>month</th>\n",
       "      <th>mes_año</th>\n",
       "      <th>n_transferidos</th>\n",
       "      <th>ratio</th>\n",
       "      <th>n_transferencias_año</th>\n",
       "    </tr>\n",
       "  </thead>\n",
       "  <tbody>\n",
       "    <tr>\n",
       "      <th>0</th>\n",
       "      <td>1</td>\n",
       "      <td>1</td>\n",
       "      <td>0</td>\n",
       "      <td>0</td>\n",
       "      <td>413</td>\n",
       "      <td>1999</td>\n",
       "      <td>11</td>\n",
       "      <td>1999-11</td>\n",
       "      <td>1</td>\n",
       "      <td>0.002421</td>\n",
       "      <td>2.0</td>\n",
       "    </tr>\n",
       "    <tr>\n",
       "      <th>1</th>\n",
       "      <td>2</td>\n",
       "      <td>1</td>\n",
       "      <td>0</td>\n",
       "      <td>0</td>\n",
       "      <td>443</td>\n",
       "      <td>1999</td>\n",
       "      <td>12</td>\n",
       "      <td>1999-12</td>\n",
       "      <td>1</td>\n",
       "      <td>0.002257</td>\n",
       "      <td>NaN</td>\n",
       "    </tr>\n",
       "    <tr>\n",
       "      <th>2</th>\n",
       "      <td>3</td>\n",
       "      <td>1</td>\n",
       "      <td>0</td>\n",
       "      <td>0</td>\n",
       "      <td>378</td>\n",
       "      <td>2000</td>\n",
       "      <td>1</td>\n",
       "      <td>2000-1</td>\n",
       "      <td>1</td>\n",
       "      <td>0.002646</td>\n",
       "      <td>12.0</td>\n",
       "    </tr>\n",
       "    <tr>\n",
       "      <th>3</th>\n",
       "      <td>4</td>\n",
       "      <td>0</td>\n",
       "      <td>0</td>\n",
       "      <td>0</td>\n",
       "      <td>385</td>\n",
       "      <td>2000</td>\n",
       "      <td>2</td>\n",
       "      <td>2000-2</td>\n",
       "      <td>0</td>\n",
       "      <td>0.000000</td>\n",
       "      <td>NaN</td>\n",
       "    </tr>\n",
       "    <tr>\n",
       "      <th>4</th>\n",
       "      <td>5</td>\n",
       "      <td>1</td>\n",
       "      <td>0</td>\n",
       "      <td>0</td>\n",
       "      <td>388</td>\n",
       "      <td>2000</td>\n",
       "      <td>3</td>\n",
       "      <td>2000-3</td>\n",
       "      <td>1</td>\n",
       "      <td>0.002577</td>\n",
       "      <td>NaN</td>\n",
       "    </tr>\n",
       "    <tr>\n",
       "      <th>...</th>\n",
       "      <td>...</td>\n",
       "      <td>...</td>\n",
       "      <td>...</td>\n",
       "      <td>...</td>\n",
       "      <td>...</td>\n",
       "      <td>...</td>\n",
       "      <td>...</td>\n",
       "      <td>...</td>\n",
       "      <td>...</td>\n",
       "      <td>...</td>\n",
       "      <td>...</td>\n",
       "    </tr>\n",
       "    <tr>\n",
       "      <th>134</th>\n",
       "      <td>135</td>\n",
       "      <td>0</td>\n",
       "      <td>0</td>\n",
       "      <td>0</td>\n",
       "      <td>541</td>\n",
       "      <td>2011</td>\n",
       "      <td>1</td>\n",
       "      <td>2011-1</td>\n",
       "      <td>0</td>\n",
       "      <td>0.000000</td>\n",
       "      <td>5.0</td>\n",
       "    </tr>\n",
       "    <tr>\n",
       "      <th>135</th>\n",
       "      <td>136</td>\n",
       "      <td>1</td>\n",
       "      <td>0</td>\n",
       "      <td>0</td>\n",
       "      <td>457</td>\n",
       "      <td>2011</td>\n",
       "      <td>2</td>\n",
       "      <td>2011-2</td>\n",
       "      <td>1</td>\n",
       "      <td>0.002188</td>\n",
       "      <td>NaN</td>\n",
       "    </tr>\n",
       "    <tr>\n",
       "      <th>136</th>\n",
       "      <td>137</td>\n",
       "      <td>3</td>\n",
       "      <td>0</td>\n",
       "      <td>0</td>\n",
       "      <td>560</td>\n",
       "      <td>2011</td>\n",
       "      <td>3</td>\n",
       "      <td>2011-3</td>\n",
       "      <td>3</td>\n",
       "      <td>0.005357</td>\n",
       "      <td>NaN</td>\n",
       "    </tr>\n",
       "    <tr>\n",
       "      <th>137</th>\n",
       "      <td>138</td>\n",
       "      <td>1</td>\n",
       "      <td>0</td>\n",
       "      <td>0</td>\n",
       "      <td>514</td>\n",
       "      <td>2011</td>\n",
       "      <td>4</td>\n",
       "      <td>2011-4</td>\n",
       "      <td>1</td>\n",
       "      <td>0.001946</td>\n",
       "      <td>NaN</td>\n",
       "    </tr>\n",
       "    <tr>\n",
       "      <th>138</th>\n",
       "      <td>139</td>\n",
       "      <td>0</td>\n",
       "      <td>0</td>\n",
       "      <td>0</td>\n",
       "      <td>373</td>\n",
       "      <td>2011</td>\n",
       "      <td>5</td>\n",
       "      <td>2011-5</td>\n",
       "      <td>0</td>\n",
       "      <td>0.000000</td>\n",
       "      <td>NaN</td>\n",
       "    </tr>\n",
       "  </tbody>\n",
       "</table>\n",
       "<p>139 rows × 11 columns</p>\n",
       "</div>"
      ],
      "text/plain": [
       "     Column1  Cardio  Resp  Hypo  Adm  year  month  mes_año  n_transferidos  \\\n",
       "0          1       1     0     0  413  1999     11  1999-11               1   \n",
       "1          2       1     0     0  443  1999     12  1999-12               1   \n",
       "2          3       1     0     0  378  2000      1   2000-1               1   \n",
       "3          4       0     0     0  385  2000      2   2000-2               0   \n",
       "4          5       1     0     0  388  2000      3   2000-3               1   \n",
       "..       ...     ...   ...   ...  ...   ...    ...      ...             ...   \n",
       "134      135       0     0     0  541  2011      1   2011-1               0   \n",
       "135      136       1     0     0  457  2011      2   2011-2               1   \n",
       "136      137       3     0     0  560  2011      3   2011-3               3   \n",
       "137      138       1     0     0  514  2011      4   2011-4               1   \n",
       "138      139       0     0     0  373  2011      5   2011-5               0   \n",
       "\n",
       "        ratio  n_transferencias_año  \n",
       "0    0.002421                   2.0  \n",
       "1    0.002257                   NaN  \n",
       "2    0.002646                  12.0  \n",
       "3    0.000000                   NaN  \n",
       "4    0.002577                   NaN  \n",
       "..        ...                   ...  \n",
       "134  0.000000                   5.0  \n",
       "135  0.002188                   NaN  \n",
       "136  0.005357                   NaN  \n",
       "137  0.001946                   NaN  \n",
       "138  0.000000                   NaN  \n",
       "\n",
       "[139 rows x 11 columns]"
      ]
     },
     "execution_count": 27,
     "metadata": {},
     "output_type": "execute_result"
    }
   ],
   "source": [
    "archivo = \"datos_procesados2.csv\"\n",
    "df = pd.read_csv(archivo)\n",
    "df"
   ]
  },
  {
   "cell_type": "code",
   "execution_count": 44,
   "id": "4dff922a-0c47-41c0-8822-e7d671526fc9",
   "metadata": {},
   "outputs": [],
   "source": [
    "datos_ratio_conBen = df.ratio\n",
    "datos_ratio_hasta_noviembre2003 = df.ratio[:49]\n",
    "datos_ratio_desde_marzo2004 = df.ratio[52:]\n",
    "datos_ratio_sinBen = pd.concat([datos_ratio_hasta_noviembre2003, datos_ratio_desde_marzo2014])\n",
    "\n",
    "datos_ratio_sinBen.to_csv(\"datos_procesados_sinBen.csv\", sep = ',', index= False)"
   ]
  },
  {
   "cell_type": "code",
   "execution_count": 45,
   "id": "d0474f75-66ea-47fc-b03c-aff7213dccc6",
   "metadata": {},
   "outputs": [
    {
     "data": {
      "image/png": "[encoded data removed]",
      "text/plain": [
       "<Figure size 720x504 with 1 Axes>"
      ]
     },
     "metadata": {
      "needs_background": "light"
     },
     "output_type": "display_data"
    }
   ],
   "source": [
    "fig = plt.figure(figsize=(10, 7))\n",
    "\n",
    "data = [datos_ratio_conBen, datos_ratio_sinBen, datos_ratio_hasta_noviembre2003, datos_ratio_desde_marzo2014]\n",
    "ax = fig.add_axes([0, 0, 1, 1])\n",
    "plt.boxplot(data)\n",
    "plt.show()"
   ]
  },
  {
   "cell_type": "code",
   "execution_count": 39,
   "id": "ff966d58-5a5d-4687-b44d-d4b72a62bd7b",
   "metadata": {},
   "outputs": [
    {
     "data": {
      "image/png": "[encoded data removed]",
      "text/plain": [
       "<Figure size 360x504 with 1 Axes>"
      ]
     },
     "metadata": {
      "needs_background": "light"
     },
     "output_type": "display_data"
    }
   ],
   "source": [
    "fig = plt.figure(figsize=(5, 7))\n",
    "plt.boxplot(datos_ratio)\n",
    "plt.show()"
   ]
  },
  {
   "cell_type": "code",
   "execution_count": 40,
   "id": "a66fedbf-9d26-4193-84d3-ce3602235b32",
   "metadata": {},
   "outputs": [
    {
     "data": {
      "image/png": "[encoded data removed]",
      "text/plain": [
       "<Figure size 360x504 with 1 Axes>"
      ]
     },
     "metadata": {
      "needs_background": "light"
     },
     "output_type": "display_data"
    }
   ],
   "source": [
    "fig = plt.figure(figsize=(5, 7))\n",
    "plt.boxplot(datos_ratio_sinBen)\n",
    "plt.show()"
   ]
  },
  {
   "cell_type": "code",
   "execution_count": 41,
   "id": "fc5d574d-0646-4039-9962-955d242703fb",
   "metadata": {},
   "outputs": [
    {
     "data": {
      "image/png": "[encoded data removed]",
      "text/plain": [
       "<Figure size 360x504 with 1 Axes>"
      ]
     },
     "metadata": {
      "needs_background": "light"
     },
     "output_type": "display_data"
    }
   ],
   "source": [
    "fig = plt.figure(figsize=(5, 7))\n",
    "plt.boxplot(datos_ratio_hasta_noviembre2003)\n",
    "plt.show()"
   ]
  },
  {
   "cell_type": "code",
   "execution_count": 42,
   "id": "b195ab81-a7d5-4a80-8031-5318996b154e",
   "metadata": {},
   "outputs": [
    {
     "data": {
      "image/png": "[encoded data removed]",
      "text/plain": [
       "<Figure size 360x504 with 1 Axes>"
      ]
     },
     "metadata": {
      "needs_background": "light"
     },
     "output_type": "display_data"
    }
   ],
   "source": [
    "fig = plt.figure(figsize=(5, 7))\n",
    "plt.boxplot(datos_ratio_desde_marzo2004)\n",
    "plt.show()"
   ]
  }
 ],
 "metadata": {
  "kernelspec": {
   "display_name": "Python 3 (ipykernel)",
   "language": "python",
   "name": "python3"
  },
  "language_info": {
   "codemirror_mode": {
    "name": "ipython",
    "version": 3
   },
   "file_extension": ".py",
   "mimetype": "text/x-python",
   "name": "python",
   "nbconvert_exporter": "python",
   "pygments_lexer": "ipython3",
   "version": "3.9.7"
  }
 },
 "nbformat": 4,
 "nbformat_minor": 5
}
