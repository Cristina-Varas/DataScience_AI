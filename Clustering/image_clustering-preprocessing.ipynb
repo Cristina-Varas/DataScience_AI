{
 "cells": [
  {
   "cell_type": "markdown",
   "id": "f4ff043e-2cf9-49d6-8508-b8b75fd7d756",
   "metadata": {},
   "source": [
    "### OCI Data Science - Useful Tips\n",
    "<details>\n",
    "<summary><font size=\"2\">Check for Public Internet Access</font></summary>\n",
    "\n",
    "```python\n",
    "import requests\n",
    "response = requests.get(\"https://oracle.com\")\n",
    "assert response.status_code==200, \"Internet connection failed\"\n",
    "```\n",
    "</details>\n",
    "<details>\n",
    "<summary><font size=\"2\">Helpful Documentation </font></summary>\n",
    "<ul><li><a href=\"https://docs.cloud.oracle.com/en-us/iaas/data-science/using/data-science.htm\">Data Science Service Documentation</a></li>\n",
    "<li><a href=\"https://docs.cloud.oracle.com/iaas/tools/ads-sdk/latest/index.html\">ADS documentation</a></li>\n",
    "</ul>\n",
    "</details>\n",
    "<details>\n",
    "<summary><font size=\"2\">Typical Cell Imports and Settings for ADS</font></summary>\n",
    "\n",
    "```python\n",
    "%load_ext autoreload\n",
    "%autoreload 2\n",
    "%matplotlib inline\n",
    "\n",
    "import warnings\n",
    "warnings.filterwarnings('ignore')\n",
    "\n",
    "import logging\n",
    "logging.basicConfig(format='%(levelname)s:%(message)s', level=logging.ERROR)\n",
    "\n",
    "import ads\n",
    "from ads.dataset.factory import DatasetFactory\n",
    "from ads.automl.provider import OracleAutoMLProvider\n",
    "from ads.automl.driver import AutoML\n",
    "from ads.evaluations.evaluator import ADSEvaluator\n",
    "from ads.common.data import ADSData\n",
    "from ads.explanations.explainer import ADSExplainer\n",
    "from ads.explanations.mlx_global_explainer import MLXGlobalExplainer\n",
    "from ads.explanations.mlx_local_explainer import MLXLocalExplainer\n",
    "from ads.catalog.model import ModelCatalog\n",
    "from ads.common.model_artifact import ModelArtifact\n",
    "```\n",
    "</details>\n",
    "<details>\n",
    "<summary><font size=\"2\">Useful Environment Variables</font></summary>\n",
    "\n",
    "```python\n",
    "import os\n",
    "print(os.environ[\"NB_SESSION_COMPARTMENT_OCID\"])\n",
    "print(os.environ[\"PROJECT_OCID\"])\n",
    "print(os.environ[\"USER_OCID\"])\n",
    "print(os.environ[\"TENANCY_OCID\"])\n",
    "print(os.environ[\"NB_REGION\"])\n",
    "```\n",
    "</details>"
   ]
  },
  {
   "cell_type": "markdown",
   "id": "81581cae-1e2e-4a3b-82ac-6ac14aa3175f",
   "metadata": {
    "tags": []
   },
   "source": [
    "## 0. Libraries installation"
   ]
  },
  {
   "cell_type": "code",
   "execution_count": 2,
   "id": "de696699-246c-4396-92fa-dacead49744d",
   "metadata": {
    "tags": []
   },
   "outputs": [
    {
     "name": "stdout",
     "output_type": "stream",
     "text": [
      "Requirement already satisfied: numpy in /opt/conda/lib/python3.8/site-packages (1.24.3)\n",
      "Requirement already satisfied: pandas in /opt/conda/lib/python3.8/site-packages (2.0.3)\n",
      "Requirement already satisfied: matplotlib in /opt/conda/lib/python3.8/site-packages (3.7.5)\n",
      "Requirement already satisfied: scikit-learn in /opt/conda/lib/python3.8/site-packages (1.3.2)\n",
      "Requirement already satisfied: tensorflow in /opt/conda/lib/python3.8/site-packages (2.13.1)\n",
      "\u001b[31mERROR: Could not find a version that satisfies the requirement opencv (from versions: none)\u001b[0m\u001b[31m\n",
      "\u001b[0m\u001b[31mERROR: No matching distribution found for opencv\u001b[0m\u001b[31m\n",
      "\u001b[0m"
     ]
    }
   ],
   "source": [
    "!pip install numpy pandas matplotlib scikit-learn tensorflow \n"
   ]
  },
  {
   "cell_type": "code",
   "execution_count": 3,
   "id": "ffa87d2b-fc99-4903-9b55-42f031c5cd1d",
   "metadata": {
    "tags": []
   },
   "outputs": [
    {
     "name": "stdout",
     "output_type": "stream",
     "text": [
      "Collecting opencv-python-headless\n",
      "  Downloading opencv_python_headless-4.10.0.84-cp37-abi3-manylinux_2_17_x86_64.manylinux2014_x86_64.whl.metadata (20 kB)\n",
      "Requirement already satisfied: numpy>=1.17.0 in /opt/conda/lib/python3.8/site-packages (from opencv-python-headless) (1.24.3)\n",
      "Downloading opencv_python_headless-4.10.0.84-cp37-abi3-manylinux_2_17_x86_64.manylinux2014_x86_64.whl (49.9 MB)\n",
      "\u001b[2K   \u001b[90m━━━━━━━━━━━━━━━━━━━━━━━━━━━━━━━━━━━━━━━━\u001b[0m \u001b[32m49.9/49.9 MB\u001b[0m \u001b[31m167.4 MB/s\u001b[0m eta \u001b[36m0:00:00\u001b[0m00:01\u001b[0m\n",
      "\u001b[?25hInstalling collected packages: opencv-python-headless\n",
      "Successfully installed opencv-python-headless-4.10.0.84\n"
     ]
    }
   ],
   "source": [
    "!pip install opencv-python-headless"
   ]
  },
  {
   "cell_type": "markdown",
   "id": "c58bf377-9e45-4af7-ade1-84e5fdaf9598",
   "metadata": {},
   "source": [
    "## 1. Load the images and extract the features"
   ]
  },
  {
   "cell_type": "code",
   "execution_count": 21,
   "id": "6ff12fb6-1a12-4c4f-ad22-cca350f0e718",
   "metadata": {
    "tags": []
   },
   "outputs": [],
   "source": [
    "import numpy as np\n",
    "import os\n",
    "from tensorflow.keras.preprocessing import image\n",
    "from tensorflow.keras.applications.vgg16 import VGG16, preprocess_input\n",
    "from sklearn.cluster import KMeans\n",
    "from sklearn.decomposition import PCA\n",
    "import matplotlib.pyplot as plt\n",
    "import cv2\n",
    "import shutil\n",
    "import joblib\n",
    "import IPython.display as ipd"
   ]
  },
  {
   "cell_type": "code",
   "execution_count": 32,
   "id": "ec29777d-4a01-4799-be19-74f09ac55891",
   "metadata": {
    "tags": []
   },
   "outputs": [
    {
     "name": "stdout",
     "output_type": "stream",
     "text": [
      "1/1 [==============================] - 0s 143ms/step\n",
      "1/1 [==============================] - 0s 71ms/step\n",
      "1/1 [==============================] - 0s 73ms/step\n",
      "1/1 [==============================] - 0s 71ms/step\n",
      "1/1 [==============================] - 0s 72ms/step\n",
      "1/1 [==============================] - 0s 76ms/step\n",
      "1/1 [==============================] - 0s 72ms/step\n",
      "1/1 [==============================] - 0s 73ms/step\n",
      "1/1 [==============================] - 0s 73ms/step\n",
      "1/1 [==============================] - 0s 72ms/step\n",
      "1/1 [==============================] - 0s 70ms/step\n",
      "1/1 [==============================] - 0s 71ms/step\n",
      "1/1 [==============================] - 0s 72ms/step\n",
      "1/1 [==============================] - 0s 72ms/step\n",
      "1/1 [==============================] - 0s 70ms/step\n",
      "1/1 [==============================] - 0s 71ms/step\n",
      "1/1 [==============================] - 0s 72ms/step\n",
      "1/1 [==============================] - 0s 71ms/step\n",
      "1/1 [==============================] - 0s 72ms/step\n",
      "1/1 [==============================] - 0s 70ms/step\n",
      "1/1 [==============================] - 0s 69ms/step\n",
      "1/1 [==============================] - 0s 70ms/step\n",
      "1/1 [==============================] - 0s 69ms/step\n",
      "1/1 [==============================] - 0s 72ms/step\n",
      "1/1 [==============================] - 0s 70ms/step\n",
      "1/1 [==============================] - 0s 69ms/step\n",
      "1/1 [==============================] - 0s 71ms/step\n",
      "1/1 [==============================] - 0s 70ms/step\n",
      "1/1 [==============================] - 0s 69ms/step\n",
      "1/1 [==============================] - 0s 70ms/step\n",
      "1/1 [==============================] - 0s 70ms/step\n",
      "1/1 [==============================] - 0s 70ms/step\n"
     ]
    }
   ],
   "source": [
    "# Load the pre-trained model (VGG16)\n",
    "model = VGG16(weights='imagenet', include_top=False, pooling='avg')\n",
    "\n",
    "# Directory containing your images\n",
    "image_dir = 'images_for_clustering/frechen'\n",
    "\n",
    "# Directory to save the preprocessed images\n",
    "preprocessed_dir = 'preprocessed_img/'\n",
    "os.makedirs(preprocessed_dir, exist_ok=True)\n",
    "\n",
    "# Function to load an image, crop to the stamp, preprocess it, and save the preprocessed version\n",
    "def load_preprocess_and_save_image(img_path, preprocessed_dir, img_name):\n",
    "    # Load the original image\n",
    "    original_img = cv2.imread(img_path)\n",
    "    \n",
    "    if original_img is None:\n",
    "        print(f\"Error loading image: {img_path}\")\n",
    "        return None\n",
    "\n",
    "    # Convert the image to grayscale\n",
    "    gray = cv2.cvtColor(original_img, cv2.COLOR_BGR2GRAY)\n",
    "\n",
    "    # Use HoughCircles to detect circles (stamps) in the image\n",
    "    circles = cv2.HoughCircles(gray, cv2.HOUGH_GRADIENT, dp=1.2, minDist=100, param1=50, param2=30, minRadius=10, maxRadius=100)\n",
    "\n",
    "    if circles is not None:\n",
    "        circles = np.round(circles[0, :]).astype(\"int\")\n",
    "        # Assuming the first detected circle is the stamp\n",
    "        x, y, r = circles[0]\n",
    "        \n",
    "        # Crop the image to the bounding box around the detected circle (stamp)\n",
    "        x_start = max(x - r, 0)\n",
    "        y_start = max(y - r, 0)\n",
    "        x_end = min(x + r, original_img.shape[1])\n",
    "        y_end = min(y + r, original_img.shape[0])\n",
    "        \n",
    "        cropped_img = original_img[y_start:y_end, x_start:x_end]\n",
    "    else:\n",
    "        # If no circle is detected, use the entire image\n",
    "        cropped_img = original_img\n",
    "\n",
    "    # Convert the cropped region to a format suitable for VGG16\n",
    "    cropped_img_resized = cv2.resize(cropped_img, (224, 224))\n",
    "\n",
    "    # Save the cropped and resized image to the preprocessed directory\n",
    "    save_path = os.path.join(preprocessed_dir, img_name)\n",
    "    cv2.imwrite(save_path, cropped_img_resized)\n",
    "\n",
    "    # Preprocess the image for VGG16\n",
    "    cropped_img_resized = image.img_to_array(cropped_img_resized)\n",
    "    cropped_img_resized = np.expand_dims(cropped_img_resized, axis=0)\n",
    "    cropped_img_resized = preprocess_input(cropped_img_resized)\n",
    "    \n",
    "    return cropped_img_resized\n",
    "\n",
    "# Extract features from all images and save preprocessed images\n",
    "def extract_and_save_features(image_dir, preprocessed_dir):\n",
    "    features = []\n",
    "    image_paths = []\n",
    "    preprocessed_images = {}\n",
    "    \n",
    "    for img_name in os.listdir(image_dir):\n",
    "        img_path = os.path.join(image_dir, img_name)\n",
    "        \n",
    "        # Skip directories and hidden files\n",
    "        if os.path.isdir(img_path) or img_name.startswith('.'):\n",
    "            continue\n",
    "        \n",
    "        # Load, crop, preprocess, and save the preprocessed image\n",
    "        processed_img_array = load_preprocess_and_save_image(img_path, preprocessed_dir, img_name)\n",
    "        \n",
    "        if processed_img_array is None:\n",
    "            continue\n",
    "        \n",
    "        # Predict features using the VGG16 model\n",
    "        feature = model.predict(processed_img_array)\n",
    "        \n",
    "        features.append(feature.flatten())\n",
    "        image_paths.append(img_path)\n",
    "        \n",
    "        # Save the preprocessed image in the dictionary for later use\n",
    "        preprocessed_images[img_path] = processed_img_array[0]  # Store the preprocessed image without batch dimension\n",
    "    \n",
    "    return np.array(features), image_paths, preprocessed_images\n",
    "\n",
    "# Run the feature extraction and saving process\n",
    "features, image_paths, preprocessed_images = extract_and_save_features(image_dir, preprocessed_dir)\n",
    "\n"
   ]
  },
  {
   "cell_type": "markdown",
   "id": "619326a3-cfd7-4d42-a83d-38acb0df0b70",
   "metadata": {},
   "source": [
    "## 2. Apply clustering"
   ]
  },
  {
   "cell_type": "code",
   "execution_count": 33,
   "id": "06c6a8f0-b9d3-4be7-b71a-d23cdbc60bae",
   "metadata": {
    "tags": []
   },
   "outputs": [
    {
     "name": "stderr",
     "output_type": "stream",
     "text": [
      "/opt/conda/lib/python3.8/site-packages/sklearn/cluster/_kmeans.py:1416: FutureWarning: The default value of `n_init` will change from 10 to 'auto' in 1.4. Set the value of `n_init` explicitly to suppress the warning\n",
      "  super()._check_params_vs_input(X, default_n_init=10)\n"
     ]
    }
   ],
   "source": [
    "# Apply K-Means clustering\n",
    "num_clusters = 5  # You can change this based on your needs\n",
    "kmeans = KMeans(n_clusters=num_clusters, random_state=42)\n",
    "kmeans.fit(features)\n",
    "\n",
    "# Get cluster labels\n",
    "labels = kmeans.labels_"
   ]
  },
  {
   "cell_type": "markdown",
   "id": "b6e1bc1b-2007-4df6-8529-2b0336904e12",
   "metadata": {},
   "source": [
    "## 3. Visualize the clusters"
   ]
  },
  {
   "cell_type": "code",
   "execution_count": 34,
   "id": "22ee1300-94bd-44a7-a24a-7e733cef5c58",
   "metadata": {
    "tags": []
   },
   "outputs": [
    {
     "data": {
      "image/png": "[encoded data removed]",
      "text/plain": [
       "<Figure size 1000x800 with 1 Axes>"
      ]
     },
     "metadata": {},
     "output_type": "display_data"
    }
   ],
   "source": [
    "# Reduce dimensionality with PCA for visualization\n",
    "pca = PCA(n_components=2)\n",
    "reduced_features = pca.fit_transform(features)\n",
    "\n",
    "# Plot the clusters\n",
    "plt.figure(figsize=(10, 8))\n",
    "for i in range(num_clusters):\n",
    "    cluster_points = reduced_features[labels == i]\n",
    "    plt.scatter(cluster_points[:, 0], cluster_points[:, 1], label=f'Cluster {i}')\n",
    "plt.legend()\n",
    "plt.title('Image Clusters')\n",
    "plt.show()\n"
   ]
  },
  {
   "cell_type": "markdown",
   "id": "2c28eb49-e3ae-4eaa-9011-4ac64d627546",
   "metadata": {
    "tags": []
   },
   "source": [
    "## 4: Review the Clustered Images"
   ]
  },
  {
   "cell_type": "code",
   "execution_count": 35,
   "id": "830bd115-0f5a-4b39-b200-fbc827c065e0",
   "metadata": {
    "tags": []
   },
   "outputs": [
    {
     "name": "stdout",
     "output_type": "stream",
     "text": [
      "Cluster 0:\n",
      "images_for_clustering/frechen/Captura de pantalla 2024-08-28 144437.png\n",
      "images_for_clustering/frechen/Captura de pantalla 2024-08-28 144511.png\n",
      "images_for_clustering/frechen/Captura de pantalla 2024-08-28 142040.png\n",
      "images_for_clustering/frechen/Captura de pantalla 2024-08-28 144334.png\n",
      "images_for_clustering/frechen/Captura de pantalla 2024-08-28 142201.png\n",
      "images_for_clustering/frechen/Captura de pantalla 2024-08-28 144343.png\n",
      "images_for_clustering/frechen/Captura de pantalla 2024-08-28 144402.png\n",
      "\n",
      "\n",
      "Cluster 1:\n",
      "images_for_clustering/frechen/Captura de pantalla 2024-08-28 144326.png\n",
      "images_for_clustering/frechen/Captura de pantalla 2024-08-28 141940.png\n",
      "images_for_clustering/frechen/Captura de pantalla 2024-08-28 142154.png\n",
      "images_for_clustering/frechen/Captura de pantalla 2024-08-28 142018.png\n",
      "images_for_clustering/frechen/Captura de pantalla 2024-08-28 141953.png\n",
      "images_for_clustering/frechen/Captura de pantalla 2024-08-28 144419.png\n",
      "images_for_clustering/frechen/Captura de pantalla 2024-08-28 142027.png\n",
      "images_for_clustering/frechen/Captura de pantalla 2024-08-28 144321.png\n",
      "images_for_clustering/frechen/Captura de pantalla 2024-08-28 142145.png\n",
      "images_for_clustering/frechen/Captura de pantalla 2024-08-28 144525.png\n",
      "\n",
      "\n",
      "Cluster 2:\n",
      "images_for_clustering/frechen/Captura de pantalla 2024-08-28 142053.png\n",
      "images_for_clustering/frechen/Captura de pantalla 2024-08-28 144543.png\n",
      "images_for_clustering/frechen/Captura de pantalla 2024-08-28 142136.png\n",
      "images_for_clustering/frechen/Captura de pantalla 2024-08-28 144445.png\n",
      "images_for_clustering/frechen/Captura de pantalla 2024-08-28 142001.png\n",
      "images_for_clustering/frechen/Captura de pantalla 2024-08-28 142125.png\n",
      "\n",
      "\n",
      "Cluster 3:\n",
      "images_for_clustering/frechen/Captura de pantalla 2024-08-28 142101.png\n",
      "images_for_clustering/frechen/Captura de pantalla 2024-08-28 144427.png\n",
      "images_for_clustering/frechen/Captura de pantalla 2024-08-28 144354.png\n",
      "images_for_clustering/frechen/Captura de pantalla 2024-08-28 144411.png\n",
      "images_for_clustering/frechen/Captura de pantalla 2024-08-28 142110.png\n",
      "images_for_clustering/frechen/Captura de pantalla 2024-08-28 144536.png\n",
      "images_for_clustering/frechen/Captura de pantalla 2024-08-28 144501.png\n",
      "images_for_clustering/frechen/Captura de pantalla 2024-08-28 142009.png\n",
      "\n",
      "\n",
      "Cluster 4:\n",
      "images_for_clustering/frechen/Captura de pantalla 2024-08-28 144453.png\n",
      "\n",
      "\n"
     ]
    }
   ],
   "source": [
    "# Print image paths for each cluster\n",
    "for i in range(num_clusters):\n",
    "    print(f'Cluster {i}:')\n",
    "    for img_path in np.array(image_paths)[labels == i]:\n",
    "        print(img_path)\n",
    "    print('\\n')"
   ]
  },
  {
   "cell_type": "code",
   "execution_count": 36,
   "id": "5592dc00-8e70-44ae-b557-71ac89e95ada",
   "metadata": {
    "tags": []
   },
   "outputs": [
    {
     "name": "stdout",
     "output_type": "stream",
     "text": [
      "Images have been saved in clustered_images_focus/frenchen/ organized by clusters.\n"
     ]
    }
   ],
   "source": [
    "import shutil\n",
    "\n",
    "# Create the base directory for clustered images\n",
    "cluster_base_dir = 'clustered_images_focus/frenchen/'\n",
    "os.makedirs(cluster_base_dir, exist_ok=True)\n",
    "\n",
    "# Function to create directories for clusters and save original and preprocessed images\n",
    "def save_clustered_images(image_paths, labels, cluster_base_dir, preprocessed_images):\n",
    "    for cluster_num in np.unique(labels):\n",
    "        cluster_dir = os.path.join(cluster_base_dir, f'cluster{cluster_num + 1}')\n",
    "        os.makedirs(cluster_dir, exist_ok=True)\n",
    "        \n",
    "        cluster_images = np.array(image_paths)[labels == cluster_num]\n",
    "        for img_path in cluster_images:\n",
    "            # Copy the original image to the cluster directory\n",
    "            shutil.copy(img_path, cluster_dir)\n",
    "            \n",
    "            # Save the preprocessed image to the cluster directory\n",
    "            preprocessed_img = preprocessed_images[img_path]\n",
    "            preprocessed_img_name = os.path.basename(img_path)\n",
    "            preprocessed_save_path = os.path.join(cluster_dir, f'preprocessed_{preprocessed_img_name}')\n",
    "            preprocessed_img = image.array_to_img(preprocessed_img)  # Convert back to PIL image\n",
    "            preprocessed_img.save(preprocessed_save_path)\n",
    "\n",
    "# Save the images (both original and preprocessed) in their respective cluster directories\n",
    "save_clustered_images(image_paths, labels, cluster_base_dir, preprocessed_images)\n",
    "\n",
    "print(f'Images have been saved in {cluster_base_dir} organized by clusters.')"
   ]
  },
  {
   "cell_type": "code",
   "execution_count": 37,
   "id": "21b5579f-3e07-438a-ab27-54b300aac3ee",
   "metadata": {
    "tags": []
   },
   "outputs": [
    {
     "name": "stdout",
     "output_type": "stream",
     "text": [
      "Folder /home/datascience/clustered_images_focus/frenchen/ has been zipped as /home/datascience/frenchen_clustered_images_focus.zip.\n"
     ]
    }
   ],
   "source": [
    "import shutil\n",
    "\n",
    "# Path to the directory you want to zip\n",
    "folder_to_zip = '/home/datascience/clustered_images_focus/frenchen/'\n",
    "zip_file_name = '/home/datascience/frenchen_clustered_images_focus.zip'\n",
    "\n",
    "# Create a zip file\n",
    "shutil.make_archive(zip_file_name.replace('.zip', ''), 'zip', folder_to_zip)\n",
    "\n",
    "print(f'Folder {folder_to_zip} has been zipped as {zip_file_name}.')"
   ]
  },
  {
   "cell_type": "code",
   "execution_count": 28,
   "id": "85d74560-d743-4b83-bb90-65ebf3845d6f",
   "metadata": {
    "tags": []
   },
   "outputs": [
    {
     "data": {
      "text/html": [
       "Path (<tt>/home/datascience/frenchen_clustered_images_focus.zip</tt>) doesn't exist. It may still be in the process of being generated, or you may have the incorrect path."
      ],
      "text/plain": [
       "/home/datascience/frenchen_clustered_images_focus.zip"
      ]
     },
     "execution_count": 28,
     "metadata": {},
     "output_type": "execute_result"
    }
   ],
   "source": [
    "import IPython.display as ipd\n",
    "\n",
    "# Provide a download link\n",
    "ipd.FileLink('/home/datascience/frenchen_clustered_images_focus.zip')"
   ]
  },
  {
   "cell_type": "markdown",
   "id": "a309fe08-f088-4402-8168-8a6b8548b22f",
   "metadata": {},
   "source": [
    "## 5. Saving and reusing the clustering model"
   ]
  },
  {
   "cell_type": "code",
   "execution_count": 29,
   "id": "dd5ae6b0-c0e7-4eba-8a30-f7d985c3270a",
   "metadata": {
    "tags": []
   },
   "outputs": [
    {
     "data": {
      "text/plain": [
       "['kmeans_model.pkl']"
      ]
     },
     "execution_count": 29,
     "metadata": {},
     "output_type": "execute_result"
    }
   ],
   "source": [
    "import joblib\n",
    "\n",
    "# Save the K-Means model\n",
    "joblib.dump(kmeans, 'kmeans_model.pkl')\n",
    "\n",
    "# To load the model later\n",
    "# kmeans = joblib.load('kmeans_model.pkl')"
   ]
  },
  {
   "cell_type": "code",
   "execution_count": null,
   "id": "c95fc106-83b2-4ceb-9785-dd881c1066c9",
   "metadata": {},
   "outputs": [],
   "source": []
  }
 ],
 "metadata": {
  "kernelspec": {
   "display_name": "Python 3 (ipykernel)",
   "language": "python",
   "name": "python3"
  },
  "language_info": {
   "codemirror_mode": {
    "name": "ipython",
    "version": 3
   },
   "file_extension": ".py",
   "mimetype": "text/x-python",
   "name": "python",
   "nbconvert_exporter": "python",
   "pygments_lexer": "ipython3",
   "version": "3.8.19"
  }
 },
 "nbformat": 4,
 "nbformat_minor": 5
}
